{
  "cells": [
    {
      "cell_type": "markdown",
      "metadata": {
        "id": "scT4EbZa1Re0"
      },
      "source": [
        "# Project - Analyzing the Air Quality trends in India (2015 - 2020)\n",
        "\n",
        "This project - analyzing air quality trends (2015-2020) using a Kaggle dataset as part of the \"Data Analysis with Python: Zero to Pandas\" course by Jovian. The dataset includes city-level AQI data, pollutant levels (PM2.5, PM10, NO2, CO, etc.) and stations data. **My goal is to study seasonal trends over the time**, **answering 10 data-driven questions with Pandas, Matplotlib, and Seaborn**. I'm using Google Colab for analysis, applying skills from the course to clean, visualize, and extract insights from real-world data."
      ]
    },
    {
      "cell_type": "markdown",
      "metadata": {
        "id": "ByoSaI6H1Re2"
      },
      "source": [
        "## Downloading the Dataset\n",
        "\n",
        "For this project, I used open-source data from Kaggle, specifically the \"Air Quality Data in India\" dataset. I downloaded it using the opendatasets Python library and prepared it for analysis. The dataset includes key air quality indicators like AQI values, PM2.5, PM10, NO2, and CO, which I’m exploring to uncover meaningful patterns and insights.\n",
        "\n",
        "**include the details of rows and columns in the datasets**"
      ]
    },
    {
      "cell_type": "code",
      "execution_count": null,
      "metadata": {
        "id": "pIlFP0YP1Re3"
      },
      "outputs": [],
      "source": [
        "!pip install jovian opendatasets --upgrade --quiet"
      ]
    },
    {
      "cell_type": "markdown",
      "metadata": {
        "id": "5a6VWdmZ1Re4"
      },
      "source": [
        "Let's begin by downloading the data, and listing the files within the dataset."
      ]
    },
    {
      "cell_type": "code",
      "execution_count": null,
      "metadata": {
        "id": "DhGnZPMS1Re4"
      },
      "outputs": [],
      "source": [
        "dataset_url = 'https://www.kaggle.com/datasets/rohanrao/air-quality-data-in-india?select=city_day.csv'"
      ]
    },
    {
      "cell_type": "code",
      "execution_count": null,
      "metadata": {
        "id": "y7EE7jkE1Re5"
      },
      "outputs": [],
      "source": [
        "import opendatasets as od\n",
        "od.download(dataset_url)"
      ]
    },
    {
      "cell_type": "markdown",
      "metadata": {
        "id": "gMfZ-zqr1Re6"
      },
      "source": [
        "The dataset has been downloaded and extracted."
      ]
    },
    {
      "cell_type": "code",
      "execution_count": null,
      "metadata": {
        "id": "mH5E-0Ha1Re6"
      },
      "outputs": [],
      "source": [
        "data_dir = './air-quality-data-in-india'"
      ]
    },
    {
      "cell_type": "code",
      "execution_count": null,
      "metadata": {
        "id": "AuMxXgFC1Re7"
      },
      "outputs": [],
      "source": [
        "import os\n",
        "os.listdir(data_dir)"
      ]
    },
    {
      "cell_type": "markdown",
      "metadata": {
        "id": "ORQ5Bka_1Re7"
      },
      "source": [
        "Let us save and upload our work to Jovian before continuing."
      ]
    },
    {
      "cell_type": "code",
      "execution_count": null,
      "metadata": {
        "id": "uuvh9S5_1Re7"
      },
      "outputs": [],
      "source": [
        "project_name = \"analyzing-air-quality-in-india\""
      ]
    },
    {
      "cell_type": "markdown",
      "metadata": {
        "id": "Iu9NNAm_1Re8"
      },
      "source": [
        "## Data Preparation and Cleaning\n",
        "\n",
        "\n",
        "In this segment, I loaded the \"Air Quality Data in India\" dataset into a Pandas DataFrame for analysis. First, I explored the dataset by checking the number of rows and columns, inspecting data types, and analyzing value ranges. I then handled missing, incorrect, and invalid data through techniques like imputation and removal of inconsistencies. Additionally, I performed data preprocessing steps such as parsing dates and merging multiple datasets where necessary to enhance the analysis.\n",
        "\n",
        "\n"
      ]
    },
    {
      "cell_type": "code",
      "execution_count": null,
      "metadata": {
        "id": "l4KrLeKc1Re9"
      },
      "outputs": [],
      "source": [
        "import pandas as pd"
      ]
    },
    {
      "cell_type": "code",
      "execution_count": null,
      "metadata": {
        "id": "SIN2LVH91Re9"
      },
      "outputs": [],
      "source": [
        "city_day_df = pd.read_csv('./air-quality-data-in-india/city_day.csv')"
      ]
    },
    {
      "cell_type": "code",
      "execution_count": null,
      "metadata": {
        "id": "3wML3esE1Re9"
      },
      "outputs": [],
      "source": [
        "city_day_df"
      ]
    },
    {
      "cell_type": "code",
      "source": [
        "city_day_df.shape"
      ],
      "metadata": {
        "id": "N6VSlkkVozVk"
      },
      "execution_count": null,
      "outputs": []
    },
    {
      "cell_type": "code",
      "source": [
        "city_day_df.info()"
      ],
      "metadata": {
        "id": "jP4ZIaWPo-MW"
      },
      "execution_count": null,
      "outputs": []
    },
    {
      "cell_type": "code",
      "source": [
        "# Range of values for categorical features\n",
        "city_day_df['AQI_Bucket'].unique()"
      ],
      "metadata": {
        "id": "LUR24wiIoUg4"
      },
      "execution_count": null,
      "outputs": []
    },
    {
      "cell_type": "code",
      "source": [
        "# Range of values for categorical features\n",
        "city_day_df['City'].unique()"
      ],
      "metadata": {
        "id": "AlowMEo8q-IK"
      },
      "execution_count": null,
      "outputs": []
    },
    {
      "cell_type": "code",
      "source": [
        "# Ranges of values for numerical features\n",
        "numerical_features = city_day_df.select_dtypes(include=['number'])\n",
        "for col in numerical_features.columns:\n",
        "  min_val = city_day_df[col].min()\n",
        "  max_val = city_day_df[col].max()\n",
        "  print(f\"Range of values for '{col}': [{min_val}, {max_val}]\")"
      ],
      "metadata": {
        "id": "hJRqRO9_tOW4"
      },
      "execution_count": null,
      "outputs": []
    },
    {
      "cell_type": "code",
      "source": [
        "# Display missing values before imputation\n",
        "city_day_df.isnull().sum()"
      ],
      "metadata": {
        "id": "--9ggodmROju"
      },
      "execution_count": null,
      "outputs": []
    },
    {
      "cell_type": "code",
      "source": [
        "import pandas as pd\n",
        "import numpy as np\n",
        "\n",
        "\n",
        "# List of numerical and categorical columns\n",
        "numerical_cols = ['PM2.5', 'PM10', 'NO', 'NO2', 'NOx', 'NH3', 'CO', 'SO2', 'O3', 'Benzene', 'Toluene', 'Xylene', 'AQI']\n",
        "categorical_cols = ['City', 'AQI_Bucket']\n",
        "\n",
        "# Median Imputation\n",
        "for col in numerical_cols:\n",
        "    city_day_df[col].fillna(city_day_df[col].median(), inplace=True)\n",
        "\n",
        "# Mode Imputation for categorical data\n",
        "for col in categorical_cols:\n",
        "    city_day_df[col].fillna(city_day_df[col].mode()[0], inplace=True)\n",
        "\n",
        "# Display missing values after imputation\n",
        "print(\"Missing Values After Imputation:\\n\", city_day_df.isnull().sum())\n",
        "\n",
        "# Save the cleaned dataset\n",
        "city_day_df.to_csv(\"cleaned_city_day.csv\", index=False)\n",
        "\n",
        "print(\"Data Cleaning Completed Successfully!\")\n"
      ],
      "metadata": {
        "id": "38sBbkDVVOuL"
      },
      "execution_count": null,
      "outputs": []
    },
    {
      "cell_type": "code",
      "source": [
        "city_day_df.isnull().sum()"
      ],
      "metadata": {
        "id": "QBUxgVg0mhQc"
      },
      "execution_count": null,
      "outputs": []
    },
    {
      "cell_type": "code",
      "source": [
        "city_day_df['Date'] = pd.to_datetime(city_day_df['Date'])"
      ],
      "metadata": {
        "id": "4noKcMQ67u0g"
      },
      "execution_count": null,
      "outputs": []
    },
    {
      "cell_type": "code",
      "source": [
        "city_day_df['Date']"
      ],
      "metadata": {
        "id": "S0H8rT_y7uqW"
      },
      "execution_count": null,
      "outputs": []
    },
    {
      "cell_type": "code",
      "source": [
        "station_day_df = pd.read_csv('./air-quality-data-in-india/station_day.csv')"
      ],
      "metadata": {
        "id": "PpIcDEe79jF5"
      },
      "execution_count": null,
      "outputs": []
    },
    {
      "cell_type": "code",
      "source": [
        "station_day_df"
      ],
      "metadata": {
        "id": "tSHBTBGNAoWv"
      },
      "execution_count": null,
      "outputs": []
    },
    {
      "cell_type": "code",
      "source": [
        "stations_df = pd.read_csv('./air-quality-data-in-india/stations.csv')"
      ],
      "metadata": {
        "id": "ZHwvsftaFOKe"
      },
      "execution_count": null,
      "outputs": []
    },
    {
      "cell_type": "code",
      "source": [
        "stations_df"
      ],
      "metadata": {
        "id": "7mAHmqb9FOD5"
      },
      "execution_count": null,
      "outputs": []
    },
    {
      "cell_type": "code",
      "source": [
        "merged_data = pd.merge(stations_df, city_day_df, on=\"City\", how=\"left\")"
      ],
      "metadata": {
        "id": "R9L0l8fRnGNL"
      },
      "execution_count": null,
      "outputs": []
    },
    {
      "cell_type": "code",
      "source": [
        "merged_data"
      ],
      "metadata": {
        "id": "OA5uErlNoYXm"
      },
      "execution_count": null,
      "outputs": []
    },
    {
      "cell_type": "markdown",
      "source": [
        "## Computing the mean, sum and other interesting statistics for numeric columns."
      ],
      "metadata": {
        "id": "Ym8P_FnDM-Hn"
      }
    },
    {
      "cell_type": "code",
      "source": [
        "merged_data.describe()"
      ],
      "metadata": {
        "id": "9boUO8vRM87q"
      },
      "execution_count": null,
      "outputs": []
    },
    {
      "cell_type": "markdown",
      "source": [],
      "metadata": {
        "id": "ncyvxFadmOYF"
      }
    },
    {
      "cell_type": "markdown",
      "source": [
        "##  Identifying and Handling Outliers\n"
      ],
      "metadata": {
        "id": "QgQPWAICNi-m"
      }
    },
    {
      "cell_type": "code",
      "source": [
        "def detect_outliers_iqr(df, column):\n",
        "    Q1 = df[column].quantile(0.25)\n",
        "    Q3 = df[column].quantile(0.75)\n",
        "    IQR = Q3 - Q1\n",
        "    lower_bound = Q1 - 1.5 * IQR\n",
        "    upper_bound = Q3 + 1.5 * IQR\n",
        "    return df[(df[column] < lower_bound) | (df[column] > upper_bound)]\n",
        "\n",
        "# Detect outliers in AQI\n",
        "outliers_iqr = detect_outliers_iqr(merged_data, 'AQI')\n",
        "print(\"Outliers detected using IQR:\\n\", outliers_iqr)\n"
      ],
      "metadata": {
        "id": "ri7meBKbN8X8"
      },
      "execution_count": null,
      "outputs": []
    },
    {
      "cell_type": "code",
      "source": [
        "import numpy as np\n",
        "\n",
        "Q1 = merged_data['AQI'].quantile(0.25)\n",
        "Q3 = merged_data['AQI'].quantile(0.75)\n",
        "IQR = Q3 - Q1\n",
        "lower_bound = Q1 - 1.5 * IQR\n",
        "upper_bound = Q3 + 1.5 * IQR\n",
        "\n",
        "# Option 1: Remove extreme outliers\n",
        "merged_data = city_day_df[(merged_data['AQI'] >= lower_bound) & (merged_data['AQI'] <= upper_bound)].copy()\n",
        "\n",
        "# Option 2: Winsorization (Capping outliers at upper bound)\n",
        "merged_data.loc[:, 'AQI'] = np.clip(merged_data['AQI'], lower_bound, upper_bound)\n",
        "\n",
        "# Option 3: Replace outliers with median\n",
        "median_aqi = city_day_df['AQI'].median()\n",
        "merged_data.loc[city_day_df['AQI'] > upper_bound, 'AQI'] = median_aqi"
      ],
      "metadata": {
        "id": "Cx288YqVOZcr"
      },
      "execution_count": null,
      "outputs": []
    },
    {
      "cell_type": "code",
      "source": [
        "merged_data.describe()"
      ],
      "metadata": {
        "id": "_gcXvKR4Oz7V"
      },
      "execution_count": null,
      "outputs": []
    },
    {
      "cell_type": "markdown",
      "source": [
        "The max AQI value is now 291 (previously it was 2049).\n",
        "\n",
        "The number of records has reduced to 25,648 (previously it was 186,670), indicating that extreme outliers have been removed.\n",
        "\n",
        "The mean AQI has dropped to 128.38, which is more reasonable than before."
      ],
      "metadata": {
        "id": "lIgG9OG3PK_p"
      }
    },
    {
      "cell_type": "markdown",
      "source": [
        "## Exploratory Analysis and Visualization\n",
        "\n",
        "I computed key statistics like mean, sum, and range for numeric columns to understand the dataset’s overall trends. To visualize distributions, I used histograms for pollutants and AQI values, revealing variations across different cities and time periods. Relationships between variables were explored using scatter plots and bar charts, highlighting correlations between pollutants and AQI. From this exploratory analysis, I identified patterns such as seasonal pollution spikes and variations across cities, providing valuable insights for further investigation.\n",
        "\n"
      ],
      "metadata": {
        "id": "XxiwC2oEA559"
      }
    },
    {
      "cell_type": "markdown",
      "source": [
        "Let's begin by importing matplotlib.pyplot and seaborn."
      ],
      "metadata": {
        "id": "zDEgWI3lA4WV"
      }
    },
    {
      "cell_type": "code",
      "source": [
        "import seaborn as sns\n",
        "import matplotlib\n",
        "import matplotlib.pyplot as plt\n",
        "%matplotlib inline\n",
        "\n",
        "sns.set_style('darkgrid')\n",
        "matplotlib.rcParams['font.size'] = 14\n",
        "matplotlib.rcParams['figure.figsize'] = (9, 5)\n",
        "matplotlib.rcParams['figure.facecolor'] = '#00000000'"
      ],
      "metadata": {
        "id": "0h1mRLMFAvMW"
      },
      "execution_count": null,
      "outputs": []
    },
    {
      "cell_type": "markdown",
      "source": [
        "# Exploring distributions of numeric columns using histograms"
      ],
      "metadata": {
        "id": "6-wzY4L_bv3e"
      }
    },
    {
      "cell_type": "code",
      "source": [
        "# Explore distributions of numeric columns using histograms\n",
        "\n",
        "# Define numerical columns\n",
        "numerical_cols = ['PM2.5', 'PM10', 'NO', 'NO2', 'NOx', 'NH3', 'CO', 'SO2', 'O3', 'Benzene', 'Toluene', 'Xylene', 'AQI']\n",
        "\n",
        "# Set up subplots\n",
        "num_cols = len(numerical_cols)\n",
        "rows = (num_cols // 3) + (num_cols % 3 > 0)  # Arrange in rows of 3\n",
        "fig, axes = plt.subplots(rows, 3, figsize=(15, rows * 4))  # Adjust size\n",
        "\n",
        "# Flatten axes array for easy iteration\n",
        "axes = axes.flatten()\n",
        "\n",
        "# Plot histograms for each numeric column\n",
        "for i, col in enumerate(numerical_cols):\n",
        "    sns.histplot(city_day_df[col], kde=True, ax=axes[i])\n",
        "    axes[i].set_title(f'Distribution of {col}')\n",
        "    axes[i].set_xlabel(col)\n",
        "    axes[i].set_ylabel('Frequency')\n",
        "\n",
        "plt.tight_layout()\n",
        "plt.show()\n",
        "\n"
      ],
      "metadata": {
        "id": "nbhyP36Vbwee"
      },
      "execution_count": null,
      "outputs": []
    },
    {
      "cell_type": "markdown",
      "source": [
        "Right-Skewed Distributions (Most Pollutants & AQI)\n",
        "\n",
        "Almost all pollutants, including PM2.5, PM10, NO, NO2, NOx, CO, SO2, Benzene, Toluene, and Xylene, exhibit a strong right-skewed (positively skewed) distribution.\n",
        "\n",
        "This suggests that most of the data points have low concentrations, but there are extreme pollution spikes occasionally.\n",
        "\n",
        "PM2.5 and PM10 Have Some Extreme Outliers\n",
        "\n",
        "Both PM2.5 and PM10 show very high peaks at lower values, with a long tail extending to the right.\n",
        "\n",
        "This means that while most daily AQI values remain moderate, there are occasional severe pollution events, possibly during winter or festival seasons.\n",
        "\n",
        "NO2 and NOx Show Bimodal Trends\n",
        "\n",
        "The NO2 and NOx distributions appear bimodal (two peaks), indicating two different levels of pollution events—one during normal conditions and another during high-pollution periods.\n",
        "\n",
        "Ozone (O3) Distribution is Relatively Wide\n",
        "\n",
        "Unlike other pollutants, Ozone (O3) has a broader spread in its distribution.\n",
        "\n",
        "This suggests more variability in ozone levels, possibly due to meteorological effects like sunlight, temperature, and photochemical reactions.\n",
        "\n",
        "CO, SO2, and Benzene Are Typically Low but Can Occasionally Spike\n",
        "\n",
        "The CO, SO2, and Benzene distributions indicate low median levels, but occasional high concentrations are seen, likely due to industrial emissions or traffic congestion.\n",
        "\n",
        "AQI Distribution Shows Peaks at Specific Ranges\n",
        "\n",
        "AQI has a sharp peak around 100, meaning that moderate air quality is the most frequent.\n",
        "\n",
        "However, the long right tail suggests that pollution events push AQI into unhealthy ranges at times."
      ],
      "metadata": {
        "id": "0Nfrngp8qGUm"
      }
    },
    {
      "cell_type": "markdown",
      "source": [
        "# Visualizing the Impact of PM2.5 on AQI Using a Scatter Plot and Trend Line to Identify Linear Trends and Outliers"
      ],
      "metadata": {
        "id": "7SH7Zu0-pEjm"
      }
    },
    {
      "cell_type": "code",
      "source": [
        "plt.figure(figsize=(10, 6))\n",
        "sns.scatterplot(x='PM2.5', y='AQI', data=merged_data, alpha=0.5)\n",
        "sns.regplot(x='PM2.5', y='AQI', data=merged_data, scatter=False, color='red')\n",
        "plt.title('Relationship between PM2.5 and AQI')\n",
        "plt.xlabel('PM2.5 Concentration')\n",
        "plt.ylabel('Air Quality Index (AQI)')\n",
        "plt.show()"
      ],
      "metadata": {
        "id": "sBjq54-kXjD3"
      },
      "execution_count": null,
      "outputs": []
    },
    {
      "cell_type": "markdown",
      "source": [
        "The ***scatter plot*** visualizes the relationship between PM2.5 concentration and Air Quality Index (AQI). Each point represents a data entry from the dataset, showing how AQI changes with varying levels of PM2.5.\n",
        "\n",
        "The blue dots in the scatter plot represent individual observations, illustrating the spread of data points.\n",
        "\n",
        "The ***red trend line (regression line)*** is fitted using sns.regplot(), which helps in identifying the linear relationship between PM2.5 and AQI.\n",
        "\n",
        "The red trend line confirms that **as PM2.5 concentration increases, AQI also rises.**\n",
        "\n",
        "A majority of data points are clustered at low PM2.5 values (0-150) and AQI (0-300).\n",
        "This indicates that most days have moderate pollution levels."
      ],
      "metadata": {
        "id": "OltnxCTkD5mU"
      }
    },
    {
      "cell_type": "markdown",
      "source": [
        "# Density Distribution of PM10 vs AQI using a KDE (Kernal Density Estimation) Plot to analyze their Correlation and assess the influence of other pollutants on AQI Calculation."
      ],
      "metadata": {
        "id": "Mg8MefrTpMDF"
      }
    },
    {
      "cell_type": "code",
      "source": [
        "plt.figure(figsize=(10, 6))\n",
        "sns.kdeplot(x=merged_data['PM10'], y=merged_data['AQI'], fill=True, cmap=\"magma\", levels=50)\n",
        "plt.title('Density Plot of PM10 vs AQI')\n",
        "plt.xlabel('PM10 Concentration')\n",
        "plt.ylabel('Air Quality Index (AQI)')\n",
        "plt.show()"
      ],
      "metadata": {
        "id": "6x0XumIddyZv"
      },
      "execution_count": null,
      "outputs": []
    },
    {
      "cell_type": "markdown",
      "source": [
        "The plot shows that as **PM10 concentration increases, AQI also rises**, indicating that **PM10 is a major contributor to air pollution**. However, the relationship is not perfectly linear, suggesting that **other pollutants also influence AQI calculations.**\n",
        "\n",
        "*Most points are concentrated where PM10 is below 100 and AQI is below 250,* indicating that in many cities, PM10 pollution remains at moderate levels. This also suggests that on most days, air quality is within manageable limits.\n",
        "\n",
        "There are a **few extreme cases where PM10 and AQI is nearly 400 and 2000 respectively**. These could correspond to severe pollution events like **smog, dust storms, or Festival-related pollution spikes.**"
      ],
      "metadata": {
        "id": "CpWHAsXz090h"
      }
    },
    {
      "cell_type": "code",
      "source": [
        "pollutants = ['PM2.5', 'PM10', 'NO', 'NO2', 'NOx', 'NH3', 'CO', 'SO2', 'O3', 'Benzene', 'Toluene', 'Xylene', 'AQI']\n",
        "\n",
        "# Compute the correlation matrix\n",
        "correlation_matrix = merged_data[pollutants].corr()\n",
        "\n",
        "# Plot the heatmap\n",
        "plt.figure(figsize=(12, 8))\n",
        "sns.heatmap(correlation_matrix, annot=True, cmap=\"Reds\", fmt=\".2f\", linewidths=0.5)\n",
        "\n",
        "# Title for the heatmap\n",
        "plt.title(\"Correlation Heatmap of Air Pollutants and AQI\")\n",
        "\n",
        "# Show the plot\n",
        "plt.show()\n"
      ],
      "metadata": {
        "id": "0vwBw3NanGMP"
      },
      "execution_count": null,
      "outputs": []
    },
    {
      "cell_type": "markdown",
      "source": [
        "**PM2.5 has the highest correlation with AQI (0.63)** - The biggest contributor to air pollution.\n",
        "\n",
        "CO has a strong correlation with AQI (0.65) - Indicates significant impact from *vehicular & industrial emissions*.\n",
        "\n",
        "NO2 (0.52) and PM10 (0.48) moderately influence AQI - *Pollution from traffic and dust particles*.\n",
        "\n",
        "SO2 (0.45) and NOx (0.44) also contribute - Mostly from *industrial and fuel combustion sources.*\n",
        "\n",
        "**NH3, O3, and Benzene have weak correlations** - These pollutants don’t directly affect AQI significantly.\n",
        "\n",
        "***PM2.5 and CO are the biggest air quality degraders.***\n",
        "\n",
        "Traffic and industrial emissions play a major role in pollution levels.\n",
        "\n",
        "Reducing fine particulate matter and carbon monoxide emissions can improve air quality the most.\n",
        "\n"
      ],
      "metadata": {
        "id": "4nDoNZaklYYK"
      }
    },
    {
      "cell_type": "markdown",
      "source": [
        "# Visualizing the distribution of how air quality distributed over the time using countplot.\n"
      ],
      "metadata": {
        "id": "xVHXKYCDKgnP"
      }
    },
    {
      "cell_type": "code",
      "source": [
        "# using seaborn for a countplot\n",
        "plt.figure(figsize=(12, 6))\n",
        "sns.countplot(x='AQI_Bucket', data=merged_data)\n",
        "plt.title('Distribution of AQI Buckets')\n",
        "plt.xlabel('AQI Bucket')\n",
        "plt.ylabel('Count')\n",
        "plt.xticks(rotation=45, ha='right')\n",
        "plt.tight_layout()\n",
        "plt.show()"
      ],
      "metadata": {
        "id": "QDhYv3O-mMhk"
      },
      "execution_count": null,
      "outputs": []
    },
    {
      "cell_type": "markdown",
      "source": [
        "Each bar height shows how many times a particular AQI_Bucket appears in the city_day_df dataset.\n",
        "\n",
        "The bar for **\"Moderate\" AQI is taller** than any other AQI Bucket. Hence, it means there were ***more days where AQI was \"Moderate\".***\n",
        "\n",
        "This helps visualize how air quality was distributed over time."
      ],
      "metadata": {
        "id": "RPPd6VWbo0Lu"
      }
    },
    {
      "cell_type": "markdown",
      "source": [
        "#Relationship between various pollutants and the AQI through violin plot"
      ],
      "metadata": {
        "id": "48BdjOTaL_yu"
      }
    },
    {
      "cell_type": "code",
      "source": [
        "plt.figure(figsize=(12, 6))\n",
        "sns.violinplot(data=merged_data[numerical_cols])\n",
        "plt.xticks(rotation=90)\n",
        "plt.title(\"Violin Plot of Air Pollutants and AQI\")\n",
        "plt.show()\n"
      ],
      "metadata": {
        "id": "WqrtOwSbVYbj"
      },
      "execution_count": null,
      "outputs": []
    },
    {
      "cell_type": "markdown",
      "source": [
        "Stable and narrow distributions for CO, SO2, and volatile organic compounds (Benzene, Toluene, Xylene) imply consistent, low levels.\n",
        "\n",
        "Similar patterns in NO, NO2, and NOx suggest common sources, possibly vehicle emissions.\n",
        "\n",
        "The right skewness in AQI and particulate matter indicates occasional severe pollution incidents."
      ],
      "metadata": {
        "id": "o_ioppzLevxa"
      }
    },
    {
      "cell_type": "markdown",
      "source": [
        "# City-wise and state-wise AQI trends"
      ],
      "metadata": {
        "id": "Co8ksm6Ae2DD"
      }
    },
    {
      "cell_type": "code",
      "source": [
        "# Grouping data by city and calculating average AQI\n",
        "city_aqi = merged_data.groupby('City')['AQI'].mean().sort_values(ascending=False)\n",
        "\n",
        "\n",
        "# Plotting\n",
        "plt.figure(figsize=(14, 6))\n",
        "sns.barplot(x=city_aqi.index, y=city_aqi.values)\n",
        "plt.xticks(rotation=90)\n",
        "plt.xlabel(\"City\")\n",
        "plt.ylabel(\"Average AQI\")\n",
        "plt.title(\"Most Polluted & Least Polluted Cities Based on Average AQI\")\n",
        "plt.show()\n"
      ],
      "metadata": {
        "id": "vNU9vHnBe23e"
      },
      "execution_count": null,
      "outputs": []
    },
    {
      "cell_type": "markdown",
      "source": [
        "***Highly polluted cities:** *Delhi, Ahmedabad, Patna, Gurugram* are major urban hubs with high industrial activity, vehicular emissions, and population density.\n",
        "\n",
        "***Moderate polluted cities:*** *Mumbai, Kolkata, Hyderabad, Kochi, and Bengaluru*, which have AQI values ranging between 100-180.\n",
        "\n",
        "***Least polluted cities:*** *Aizawl, Shillong, Thiruvananthapuram* are located in regions with rich green cover and less industrialisation.\n",
        "\n",
        "Cities like ***Kochi and Bengaluru***, despite being metropolitan areas, show relatively better air quality, possibly due to better environmental policies and coastal influence."
      ],
      "metadata": {
        "id": "dNXZI-g8e3Wt"
      }
    },
    {
      "cell_type": "markdown",
      "source": [
        "***State wise trends***\n",
        "\n",
        "\n",
        "\n"
      ],
      "metadata": {
        "id": "XUndVQhHYh3q"
      }
    },
    {
      "cell_type": "markdown",
      "source": [
        "***Calculating the city which experienced the highest pollution spike in a single month***"
      ],
      "metadata": {
        "id": "n6rMfgf6geDn"
      }
    },
    {
      "cell_type": "code",
      "source": [
        "city_month_aqi = (\n",
        "    merged_data.groupby(['City', merged_data['Date'].dt.to_period('M')])['AQI']\n",
        "    .max()\n",
        "    .reset_index()\n",
        ")\n",
        "\n",
        "# Convert period back to datetime format for better visualization\n",
        "city_month_aqi['Date'] = city_month_aqi['Date'].dt.to_timestamp()\n",
        "\n",
        "# Find the city and month with the highest AQI spike\n",
        "highest_spike_city = city_month_aqi.loc[city_month_aqi['AQI'].idxmax()]\n",
        "\n",
        "# Display the result\n",
        "print(highest_spike_city)"
      ],
      "metadata": {
        "id": "8PXVriUKgcpG"
      },
      "execution_count": null,
      "outputs": []
    },
    {
      "cell_type": "markdown",
      "source": [
        "**Highly Polluted City**\n",
        "\n",
        "***Ahmedabad*** stands out with extremely high AQI values (deep red shades in 2017-2018).\n",
        "This suggests a sharp deterioration in air quality during these years.\n",
        "Adding to that **Ahmedabad** accounts to the city which experienced the highest pollution spike in a single month.\n",
        "\n",
        "**Cities with Low AQI**\n",
        "\n",
        "Cities like ***Aizawl, Shillong, and Bengaluru*** have consistently lower AQI (blue shades).\n",
        "These cities seem to have relatively clean air compared to others.\n",
        "\n",
        "**AQI Peak Year**\n",
        "\n",
        "***2017-2018*** appears to be the worst period for air quality in many cities.\n",
        "After that, AQI values seem to ***decrease in 2020***, possibly due to the ***COVID-19 lockdown*** effect.\n",
        "\n",
        "**Cities with Fluctuating AQI**\n",
        "\n",
        "Cities like ***Delhi, Kolkata, and Lucknow*** show mixed patterns, where AQI fluctuates over time rather than following a clear trend.\n",
        "This could be due to *seasonal variations, meteorological conditions, or pollution control measures.*\n",
        "\n",
        "**Overall Trend suggests that some cities show improvement, while others remain stagnant or worsen.**\n"
      ],
      "metadata": {
        "id": "IBIVanh4KcN9"
      }
    },
    {
      "cell_type": "markdown",
      "source": [
        "# Asking and Answering Questions\n"
      ],
      "metadata": {
        "id": "x2mjGT3Oelp_"
      }
    },
    {
      "cell_type": "markdown",
      "source": [
        "#### **How does AQI vary between weekdays and weekends?**"
      ],
      "metadata": {
        "id": "eaSHXS8neCPB"
      }
    },
    {
      "cell_type": "code",
      "execution_count": null,
      "metadata": {
        "id": "SKiKpwaq1RfM"
      },
      "outputs": [],
      "source": [
        "# Create a new column for Weekday/Weekend\n",
        "merged_data[\"Weekday/Weekend\"] = merged_data[\"Date\"].dt.dayofweek.apply(lambda x: \"Weekend\" if x >= 5 else \"Weekday\")"
      ]
    },
    {
      "cell_type": "code",
      "execution_count": null,
      "metadata": {
        "id": "cGAYi7xL1RfN"
      },
      "outputs": [],
      "source": [
        "# Plot a box plot\n",
        "plt.figure(figsize=(8,5))\n",
        "sns.boxplot(data=city_day_df, x=\"Weekday/Weekend\", y=\"AQI\", palette=[\"blue\", \"red\"])\n",
        "plt.xlabel(\"Day Type\")\n",
        "plt.ylabel(\"AQI\")\n",
        "plt.title(\"Comparison of AQI on Weekdays vs. Weekends\")\n",
        "plt.show()"
      ]
    },
    {
      "cell_type": "markdown",
      "metadata": {
        "id": "q1Z75bz31RfO"
      },
      "source": [
        "#### **How does AQI vary across different seasons?**"
      ]
    },
    {
      "cell_type": "code",
      "source": [
        "\n"
      ],
      "metadata": {
        "id": "9_EhfA5npRA7"
      },
      "execution_count": null,
      "outputs": []
    },
    {
      "cell_type": "code",
      "source": [
        "\n"
      ],
      "metadata": {
        "id": "eXD3H-N_ZSdE"
      },
      "execution_count": null,
      "outputs": []
    },
    {
      "cell_type": "markdown",
      "source": [],
      "metadata": {
        "id": "5HsBo0_0ZR-W"
      }
    },
    {
      "cell_type": "markdown",
      "metadata": {
        "id": "KYnflxdn1RfP"
      },
      "source": [
        "#### **What is the trend of AQI before, during, and after major festivals (e.g., Diwali, New Year)?**"
      ]
    },
    {
      "cell_type": "code",
      "source": [],
      "metadata": {
        "id": "NDipBV4plpHW"
      },
      "execution_count": null,
      "outputs": []
    },
    {
      "cell_type": "code",
      "execution_count": null,
      "metadata": {
        "id": "MzslhYja1RfP"
      },
      "outputs": [],
      "source": []
    },
    {
      "cell_type": "markdown",
      "source": [],
      "metadata": {
        "id": "1V3JIU97lp1r"
      }
    },
    {
      "cell_type": "markdown",
      "metadata": {
        "id": "TAGPiZLU1RfQ"
      },
      "source": [
        "#### **Has air quality improved or worsened over the years?**"
      ]
    },
    {
      "cell_type": "code",
      "execution_count": null,
      "metadata": {
        "id": "HgoSboaM1RfQ"
      },
      "outputs": [],
      "source": [
        "merged_data[\"Year-Month\"] = merged_data[\"Date\"].dt.to_period(\"M\")\n",
        "\n",
        "# Compute monthly average AQI\n",
        "monthly_aqi = merged_data.groupby(\"Year-Month\")[\"AQI\"].mean()"
      ]
    },
    {
      "cell_type": "code",
      "execution_count": null,
      "metadata": {
        "id": "GCxPvxCy1RfR"
      },
      "outputs": [],
      "source": [
        "# Plot AQI trends over time\n",
        "plt.figure(figsize=(10,4))\n",
        "monthly_aqi.plot(marker='o', color='red', linestyle='-')\n",
        "plt.xlabel(\"Time\")\n",
        "plt.ylabel(\"Average AQI\")\n",
        "plt.title(\"AQI Trends Over Time\")\n",
        "plt.xticks(rotation=45)\n",
        "plt.show()"
      ]
    },
    {
      "cell_type": "code",
      "execution_count": null,
      "metadata": {
        "id": "1EmbXUgn1RfR"
      },
      "outputs": [],
      "source": [
        "# Pivot the data to get years on x-axis and cities on y-axis\n",
        "merged_data['Year'] = merged_data['Date'].dt.year\n",
        "\n",
        "heatmap_data = merged_data.pivot_table(index='City', columns='Year', values='AQI', aggfunc='mean')\n",
        "\n",
        "plt.figure(figsize=(12, 8))\n",
        "sns.heatmap(heatmap_data, cmap='viridis', annot=False, linewidths=0.5)\n",
        "\n",
        "plt.title('Yearly AQI Heatmap for All Cities', fontsize=14)\n",
        "plt.xlabel('Year', fontsize=12)\n",
        "plt.ylabel('City', fontsize=12)\n",
        "plt.show()\n"
      ]
    },
    {
      "cell_type": "markdown",
      "source": [
        "Highly Polluted City\n",
        "\n",
        "Delhi and Ahmedabad stands out with extremely high AQI values. This suggests a sharp deterioration in air quality during these years.\n",
        "\n",
        "Cities with Low AQI\n",
        "\n",
        "Cities like Aizawl, Shillong, and Bengaluru have consistently lower AQI. These cities seem to have relatively clean air compared to others.\n",
        "\n",
        "AQI Peak Year\n",
        "\n",
        "2017-2018 appears to be the worst period for air quality in many cities. After that, AQI values seem to decrease in 2020, possibly due to the COVID-19 lockdown effect.\n",
        "\n",
        "Cities with Fluctuating AQI\n",
        "\n",
        "Cities like Delhi, Kolkata, and Lucknow show mixed patterns, where AQI fluctuates over time rather than following a clear trend. This could be due to seasonal variations, meteorological conditions, or pollution control measures.\n",
        "\n",
        "Overall Trend suggests that some cities show improvement, while others remain stagnant or worsen."
      ],
      "metadata": {
        "id": "gAt12vypk0gV"
      }
    },
    {
      "cell_type": "markdown",
      "source": [
        "#### **Which Pollutant Contributes the Most to the Most and Least Polluted Cities?**"
      ],
      "metadata": {
        "id": "LwpwQExaMj5-"
      }
    },
    {
      "cell_type": "code",
      "execution_count": null,
      "metadata": {
        "id": "KFBwyZDu1RfR"
      },
      "outputs": [],
      "source": [
        "# Compute average levels of key pollutants per city\n",
        "city_pollution = city_day_df.groupby(\"City\")[[\"PM2.5\", \"PM10\", \"NO2\", \"CO\", \"SO2\"]].mean()\n",
        "\n",
        "# Display the top 5 most polluted cities based on different pollutants\n",
        "print(city_pollution.head(10))"
      ]
    },
    {
      "cell_type": "code",
      "execution_count": null,
      "metadata": {
        "id": "Uzjj9KQ01RfR"
      },
      "outputs": [],
      "source": [
        "plt.figure(figsize=(10, 6))\n",
        "city_pollution.plot(kind='bar', stacked = True, figsize=(12, 6))\n",
        "plt.title(\"Pollution Levels Across Cities\")\n",
        "plt.xlabel(\"Pollutant\")\n",
        "plt.ylabel(\"City\")\n",
        "plt.show()"
      ]
    },
    {
      "cell_type": "markdown",
      "source": [
        "In the most polluted city (Ahmedabad), PM10 is the highest pollutant, followed by PM2.5 and NO2, indicating that particulate matter is the dominant contributor to poor air quality.\n",
        "\n",
        "In the least polluted city (Aizawl), PM10 and PM2.5 are the major pollutants, but their values are significantly lower compared to other cities, making Aizawl's air much cleaner.\n",
        "\n",
        "CO and SO2 levels are relatively low in both cities, suggesting that particulate matter (PM2.5 and PM10) plays the most significant role in determining air pollution levels."
      ],
      "metadata": {
        "id": "Vk4Cdk1VZ7P6"
      }
    },
    {
      "cell_type": "markdown",
      "metadata": {
        "id": "H2_4VMNV1RfS"
      },
      "source": [
        "## Inferences and Conclusion\n",
        "\n",
        "**TODO** - Write some explanation here: a summary of all the inferences drawn from the analysis, and any conclusions you may have drawn by answering various questions."
      ]
    },
    {
      "cell_type": "markdown",
      "metadata": {
        "id": "SZj_pKh-1RfT"
      },
      "source": [
        "## References and Future Work\n",
        "\n",
        "**TODO** - Write some explanation here: ideas for future projects using this dataset, and links to resources you found useful."
      ]
    },
    {
      "cell_type": "markdown",
      "metadata": {
        "id": "45pMFwVh1RfT"
      },
      "source": [
        "> Submission Instructions (delete this cell)\n",
        ">\n",
        "> - Upload your notebook to your Jovian.ml profile using `jovian.commit`.\n",
        "> - **Make a submission here**: https://jovian.ml/learn/data-analysis-with-python-zero-to-pandas/assignment/course-project\n",
        "> - Share your work on the forum: https://jovian.ml/forum/t/course-project-on-exploratory-data-analysis-discuss-and-share-your-work/11684\n",
        "> - Share your work on social media (Twitter, LinkedIn, Telegram etc.) and tag [@JovianML](https://twitter.com/jovianml)\n",
        ">\n",
        "> (Optional) Write a blog post\n",
        ">\n",
        "> - A blog post is a great way to present and showcase your work.  \n",
        "> - Sign up on [Medium.com](https://medium.com) to write a blog post for your project.\n",
        "> - Copy over the explanations from your Jupyter notebook into your blog post, and [embed code cells & outputs](https://medium.com/jovianml/share-and-embed-jupyter-notebooks-online-with-jovian-ml-df709a03064e)\n",
        "> - Check out the Jovian.ml Medium publication for inspiration: https://medium.com/jovianml\n",
        "\n",
        "\n"
      ]
    },
    {
      "cell_type": "code",
      "execution_count": null,
      "metadata": {
        "id": "fdPIkXey1RfU"
      },
      "outputs": [],
      "source": []
    }
  ],
  "metadata": {
    "kernelspec": {
      "display_name": "Python 3",
      "language": "python",
      "name": "python3"
    },
    "language_info": {
      "codemirror_mode": {
        "name": "ipython",
        "version": 3
      },
      "file_extension": ".py",
      "mimetype": "text/x-python",
      "name": "python",
      "nbconvert_exporter": "python",
      "pygments_lexer": "ipython3",
      "version": "3.8.5"
    },
    "colab": {
      "provenance": [],
      "toc_visible": true
    }
  },
  "nbformat": 4,
  "nbformat_minor": 0
}